{
  "nbformat": 4,
  "nbformat_minor": 0,
  "metadata": {
    "colab": {
      "provenance": [],
      "authorship_tag": "ABX9TyOMrl0OZ1ulOdIDXqyD8ZT+",
      "include_colab_link": true
    },
    "kernelspec": {
      "name": "python3",
      "display_name": "Python 3"
    },
    "language_info": {
      "name": "python"
    }
  },
  "cells": [
    {
      "cell_type": "markdown",
      "metadata": {
        "id": "view-in-github",
        "colab_type": "text"
      },
      "source": [
        "<a href=\"https://colab.research.google.com/github/VikaBilyk/numeric_methods/blob/main/lab2_2.ipynb\" target=\"_parent\"><img src=\"https://colab.research.google.com/assets/colab-badge.svg\" alt=\"Open In Colab\"/></a>"
      ]
    },
    {
      "cell_type": "code",
      "execution_count": 12,
      "metadata": {
        "colab": {
          "base_uri": "https://localhost:8080/"
        },
        "id": "0_JmO1CAmPft",
        "outputId": "25293dd2-b545-495b-b33f-569d4fc2c2fd"
      },
      "outputs": [
        {
          "output_type": "stream",
          "name": "stdout",
          "text": [
            "Матриця A:\n",
            "[1.0, 0, 0, 0, 1]\n",
            "[1, 1.1, 0, 0, 0]\n",
            "[1, 1, 1.2, 0, 0]\n",
            "[1, 0, 1, 1.3, 0]\n",
            "[1, 0, 0, 1, 1.4]\n",
            "Вектор b:\n",
            "[0.5877852522924731, 0.7071067811865475, 0.8660254037844386, 1.0, 0]\n",
            "Детермінант матриці A: 1.9064\n",
            "-----------Метод Зейделя-----------\n",
            "Збіжність досягнута після 7 ітерацій.\n",
            "Корені: [1.304274197259638, -0.5428794691573549, 0.08719222973512963, -0.3011280207652057, -0.7165329832103088]\n"
          ]
        }
      ],
      "source": [
        "import numpy as np\n",
        "\n",
        "# Функція для генерації випадкового числа в заданому діапазоні\n",
        "def random_float(low, high):\n",
        "    return low + (high - low) * np.random.rand()\n",
        "\n",
        "# Функція для обчислення абсолютного значення\n",
        "def abs_value(x):\n",
        "    return x if x >= 0 else -x\n",
        "\n",
        "# Функція для обчислення норми вектора\n",
        "def vector_norm(v):\n",
        "    return sum(abs_value(x) ** 2 for x in v) ** 0.5\n",
        "\n",
        "# Функція для створення матриці A та вектора b\n",
        "def create_matrix_and_vector(n):\n",
        "    A = [[0] * n for _ in range(n)]\n",
        "    b = [0] * n\n",
        "\n",
        "    # Заповнення діагональних елементів\n",
        "    for k in range(n):\n",
        "        A[k][k] = 1 + k * 0.1\n",
        "\n",
        "    # Заповнення інших елементів\n",
        "    for k in range(1, n):\n",
        "        A[k][0] = 1  # Перший стовпець\n",
        "    for k in range(1, n - 1):\n",
        "        A[k + 1][k] = 1  # Зсув елементів по діагоналі\n",
        "    A[0][n - 1] = 1  # Задання значення в останньому стовпці\n",
        "\n",
        "    # Заповнення вектора b\n",
        "    for k in range(0, n - 1):\n",
        "        b[k] = np.sin(np.pi / (n - k))  # Задаємо значення вектора b\n",
        "\n",
        "    return A, b\n",
        "\n",
        "def calculateDeterminant(matrix):\n",
        "    n = len(matrix)\n",
        "    det = 1  # Детермінант, початково рівний 1\n",
        "    A = [row[:] for row in matrix]  # Копія матриці для маніпуляцій\n",
        "\n",
        "    for i in range(n):\n",
        "        # Знаходимо максимальний елемент у стовпці i для обміну рядків\n",
        "        max_row = i + max(range(n - i), key=lambda k: abs_value(A[i + k][i]))\n",
        "        if A[max_row][i] == 0:\n",
        "            return 0  # Якщо елемент дорівнює нулю, детермінант дорівнює нулю\n",
        "\n",
        "        # Обмін рядків\n",
        "        if max_row != i:\n",
        "            A[i], A[max_row] = A[max_row], A[i]\n",
        "            det *= -1  # Змінюємо знак детермінанту при обміні рядків\n",
        "\n",
        "        # Приводимо матрицю до верхньої трикутної форми\n",
        "        for j in range(i + 1, n):\n",
        "            factor = A[j][i] / A[i][i]\n",
        "            for k in range(i, n):\n",
        "                A[j][k] -= factor * A[i][k]\n",
        "\n",
        "    # Обчислюємо добуток елементів на головній діагоналі\n",
        "    for i in range(n):\n",
        "        det *= A[i][i]\n",
        "\n",
        "    return det\n",
        "\n",
        "def zeidelMethod(aMatrix, bVector, eps=0.001):\n",
        "    n = len(bVector)\n",
        "    x = [0.0] * n\n",
        "    x_new = x[:]\n",
        "\n",
        "    iteration = 0\n",
        "    while True:\n",
        "        iteration += 1\n",
        "        for i in range(n):\n",
        "            sum1 = sum(aMatrix[i][j] * x_new[j] for j in range(i))  # Сума по старим значенням\n",
        "            sum2 = sum(aMatrix[i][j] * x[j] for j in range(i + 1, n))  # Сума по новим значенням\n",
        "            x_new[i] = (bVector[i] - sum1 - sum2) / (aMatrix[i][i] if aMatrix[i][i] != 0 else 1)\n",
        "\n",
        "        # Перевірка на збіжність\n",
        "        if vector_norm([x_new[j] - x[j] for j in range(n)]) < eps:\n",
        "            print(f\"Збіжність досягнута після {iteration} ітерацій.\")\n",
        "            return x_new\n",
        "\n",
        "        x = x_new[:]\n",
        "\n",
        "# Використання\n",
        "size = 5  # Розмір матриці\n",
        "aMatrix, bVector = create_matrix_and_vector(size)\n",
        "\n",
        "print(\"Матриця A:\")\n",
        "for row in aMatrix:\n",
        "    print(row)\n",
        "print(\"Вектор b:\")\n",
        "print(bVector)\n",
        "\n",
        "# Обчислення детермінанту\n",
        "detA = calculateDeterminant(aMatrix)\n",
        "print(\"Детермінант матриці A:\", detA)\n",
        "\n",
        "print(\"-----------Метод Зейделя-----------\")\n",
        "roots_zeidel = zeidelMethod(aMatrix, bVector)\n",
        "print(\"Корені:\", roots_zeidel)\n"
      ]
    },
    {
      "cell_type": "code",
      "source": [],
      "metadata": {
        "id": "XO7-PfoiZnk5"
      },
      "execution_count": null,
      "outputs": []
    }
  ]
}