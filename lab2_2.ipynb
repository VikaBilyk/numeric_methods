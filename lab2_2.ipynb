{
  "nbformat": 4,
  "nbformat_minor": 0,
  "metadata": {
    "colab": {
      "provenance": [],
      "authorship_tag": "ABX9TyOyTZUAA4uFLam4rQoPYr4b",
      "include_colab_link": true
    },
    "kernelspec": {
      "name": "python3",
      "display_name": "Python 3"
    },
    "language_info": {
      "name": "python"
    }
  },
  "cells": [
    {
      "cell_type": "markdown",
      "metadata": {
        "id": "view-in-github",
        "colab_type": "text"
      },
      "source": [
        "<a href=\"https://colab.research.google.com/github/VikaBilyk/numeric_methods/blob/main/lab2_2.ipynb\" target=\"_parent\"><img src=\"https://colab.research.google.com/assets/colab-badge.svg\" alt=\"Open In Colab\"/></a>"
      ]
    },
    {
      "cell_type": "code",
      "execution_count": 16,
      "metadata": {
        "colab": {
          "base_uri": "https://localhost:8080/"
        },
        "id": "0_JmO1CAmPft",
        "outputId": "ea5b69a9-82cf-4115-c7c3-1cd97634caf7"
      },
      "outputs": [
        {
          "output_type": "stream",
          "name": "stdout",
          "text": [
            "Матриця A:\n",
            "[5.018703808002788, 0.45038246542334376, 0.7006128238704625, 0.7280133985559907, 0.501307522515158]\n",
            "[0.45038246542334376, 5.365003870671189, 0.313242352106662, 0.34992223320976595, 0.7769754853645172]\n",
            "[0.7006128238704625, 0.313242352106662, 5.38579138444508, 0.5876212095632674, 0.37743001333420545]\n",
            "[0.7280133985559907, 0.34992223320976595, 0.5876212095632674, 5.558332314964073, 0.5344359975920758]\n",
            "[0.501307522515158, 0.7769754853645172, 0.37743001333420545, 0.5344359975920758, 5.924926760170936]\n",
            "Вектор b:\n",
            "[0.5877852522924731, 0.7071067811865475, 0.8660254037844386, 1.0, 1.2246467991473532e-16]\n",
            "Головний мінор порядку 1: 5.018703808002788\n",
            "Головний мінор порядку 2: 26.722520990526384\n",
            "Головний мінор порядку 3: 140.99371071964697\n",
            "Головний мінор порядку 4: 760.686825019104\n",
            "Головний мінор порядку 5: 4359.279171849739\n",
            "Матриця A є додатньо визначеною.\n",
            "-----------Метод Зейделя-----------\n",
            "Збіжність досягнута після 4 ітерацій.\n",
            "Корені: [0.07052996337662361, 0.11443749367046707, 0.1312124443025714, 0.15374839392649306, -0.04320129676566048]\n"
          ]
        }
      ],
      "source": [
        "import numpy as np\n",
        "\n",
        "# Функція для створення симетричної додатньо визначеної матриці A та вектора b\n",
        "def create_matrix_and_vector(n):\n",
        "    A = np.random.rand(n, n)\n",
        "    A = (A + A.T) / 2  # Робимо матрицю симетричною\n",
        "\n",
        "    # Забезпечуємо діагональну домінантність\n",
        "    for i in range(n):\n",
        "        A[i][i] += n  # Додаємо велику константу на діагональ\n",
        "\n",
        "    A = A.tolist()\n",
        "    b = [np.sin(np.pi / (n - k)) for k in range(n)]\n",
        "\n",
        "    return A, b\n",
        "\n",
        "# Функція для обчислення детермінанту підматриці\n",
        "def calculateDeterminant(matrix):\n",
        "    n = len(matrix)\n",
        "    det = 1\n",
        "    A = [row[:] for row in matrix]\n",
        "\n",
        "    for i in range(n):\n",
        "        max_row = i + max(range(n - i), key=lambda k: abs(A[i + k][i]))\n",
        "        if A[max_row][i] == 0:\n",
        "            return 0\n",
        "\n",
        "        if max_row != i:\n",
        "            A[i], A[max_row] = A[max_row], A[i]\n",
        "            det *= -1\n",
        "\n",
        "        for j in range(i + 1, n):\n",
        "            factor = A[j][i] / A[i][i]\n",
        "            for k in range(i, n):\n",
        "                A[j][k] -= factor * A[i][k]\n",
        "\n",
        "        det *= A[i][i]\n",
        "\n",
        "    return det\n",
        "\n",
        "# Функція для обчислення головних мінорів\n",
        "def calculatePrincipalMinors(matrix):\n",
        "    minors = []\n",
        "    for k in range(1, len(matrix) + 1):\n",
        "        submatrix = [row[:k] for row in matrix[:k]]\n",
        "        det = calculateDeterminant(submatrix)  # Обчислюємо детермінант підматриці\n",
        "        minors.append(det)\n",
        "    return minors\n",
        "\n",
        "def zeidelMethod(aMatrix, bVector, eps=0.001):\n",
        "    n = len(bVector)\n",
        "    x = [0.0] * n\n",
        "    x_new = x[:]\n",
        "\n",
        "    iteration = 0\n",
        "    while True:\n",
        "        iteration += 1\n",
        "        for i in range(n):\n",
        "            sum1 = sum(aMatrix[i][j] * x_new[j] for j in range(i))\n",
        "            sum2 = sum(aMatrix[i][j] * x[j] for j in range(i + 1, n))\n",
        "            x_new[i] = (bVector[i] - sum1 - sum2) / aMatrix[i][i]\n",
        "\n",
        "        if max(abs(x_new[j] - x[j]) for j in range(n)) < eps:  # Перевірка на збіжність\n",
        "            print(f\"Збіжність досягнута після {iteration} ітерацій.\")\n",
        "            return x_new\n",
        "\n",
        "        x = x_new[:]\n",
        "\n",
        "# Використання\n",
        "size = 5  # Розмір матриці\n",
        "aMatrix, bVector = create_matrix_and_vector(size)\n",
        "\n",
        "print(\"Матриця A:\")\n",
        "for row in aMatrix:\n",
        "    print(row)\n",
        "print(\"Вектор b:\")\n",
        "print(bVector)\n",
        "\n",
        "# Обчислення головних мінорів\n",
        "principal_minors = calculatePrincipalMinors(aMatrix)\n",
        "for i, det in enumerate(principal_minors, start=1):\n",
        "    print(f\"Головний мінор порядку {i}: {det}\")\n",
        "\n",
        "# Перевірка додатньої визначеності\n",
        "if all(det > 0 for det in principal_minors):\n",
        "    print(\"Матриця A є додатньо визначеною.\")\n",
        "else:\n",
        "    print(\"Матриця A не є додатньо визначеною.\")\n",
        "\n",
        "# Обчислення коренів методом Зейделя\n",
        "print(\"-----------Метод Зейделя-----------\")\n",
        "roots_zeidel = zeidelMethod(aMatrix, bVector)\n",
        "print(\"Корені:\", roots_zeidel)\n"
      ]
    },
    {
      "cell_type": "code",
      "source": [],
      "metadata": {
        "id": "XO7-PfoiZnk5"
      },
      "execution_count": null,
      "outputs": []
    }
  ]
}