{
  "nbformat": 4,
  "nbformat_minor": 0,
  "metadata": {
    "colab": {
      "provenance": [],
      "authorship_tag": "ABX9TyM7c+Mim4eR1lc0zPb90Aqh",
      "include_colab_link": true
    },
    "kernelspec": {
      "name": "python3",
      "display_name": "Python 3"
    },
    "language_info": {
      "name": "python"
    }
  },
  "cells": [
    {
      "cell_type": "markdown",
      "metadata": {
        "id": "view-in-github",
        "colab_type": "text"
      },
      "source": [
        "<a href=\"https://colab.research.google.com/github/VikaBilyk/numeric_methods/blob/main/lab3/lab3.ipynb\" target=\"_parent\"><img src=\"https://colab.research.google.com/assets/colab-badge.svg\" alt=\"Open In Colab\"/></a>"
      ]
    },
    {
      "cell_type": "code",
      "execution_count": 14,
      "metadata": {
        "colab": {
          "base_uri": "https://localhost:8080/"
        },
        "id": "s8iJjJ2VWlvs",
        "outputId": "75d67307-faef-4f53-a983-1db5d37d5483"
      },
      "outputs": [
        {
          "output_type": "stream",
          "name": "stdout",
          "text": [
            "Знайдено розв'язок: x = 1.000000072914442, y = -1.1217606437308408e-08, z = -1.6826409656372577e-08 за 4 ітерацій\n",
            "Розв'язок: (1.000000072914442, -1.1217606437308408e-08, -1.6826409656372577e-08)\n"
          ]
        }
      ],
      "source": [
        "import numpy as np\n",
        "\n",
        "# Нові функції f1 та f2\n",
        "def f1(x, y, z):\n",
        "    return x**2 + y**2 + z**2 - 1  # Сфера\n",
        "\n",
        "def f2(x, y, z):\n",
        "    return x + 2 * y + 3 * z - 1  # Плоска\n",
        "\n",
        "# Вектор функцій\n",
        "def F(x, y, z):\n",
        "    return np.array([f1(x, y, z), f2(x, y, z)])\n",
        "\n",
        "# Якобіан матриця для нових функцій\n",
        "def jacobian(x, y, z):\n",
        "    return np.array([\n",
        "        [2 * x, 2 * y, 2 * z],\n",
        "        [1, 2, 3]\n",
        "    ])\n",
        "\n",
        "# Модифікований метод Ньютона\n",
        "def modified_newton_method(x0, y0, z0, tol=1e-6, max_iter=100):\n",
        "    x, y, z = x0, y0, z0\n",
        "\n",
        "    for iteration in range(max_iter):\n",
        "        # Обчислюємо значення функцій у точці (x, y, z)\n",
        "        F_val = F(x, y, z)\n",
        "\n",
        "        # Перевіряємо умову збіжності\n",
        "        if np.linalg.norm(F_val, ord=2) < tol:\n",
        "            print(f\"Знайдено розв'язок: x = {x}, y = {y}, z = {z} за {iteration} ітерацій\")\n",
        "            return x, y, z\n",
        "\n",
        "        # Обчислюємо Якобіан\n",
        "        J = jacobian(x, y, z)\n",
        "\n",
        "        # Використовуємо псевдозворотню матрицю\n",
        "        J_pseudo_inv = np.linalg.pinv(J)\n",
        "\n",
        "        # Розв'язуємо для delta\n",
        "        delta = -J_pseudo_inv @ F_val\n",
        "\n",
        "        # Оновлюємо значення x, y, z\n",
        "        x, y, z = x + delta[0], y + delta[1], z + delta[2]\n",
        "\n",
        "    print(\"Розв'язок не знайдено за вказану кількість ітерацій.\")\n",
        "    return None\n",
        "\n",
        "# Початкове наближення\n",
        "x0, y0, z0 = 0.5, 0.0, 0.0  # Спробуємо нове початкове наближення\n",
        "\n",
        "# Запускаємо метод\n",
        "solution = modified_newton_method(x0, y0, z0)\n",
        "\n",
        "if solution:\n",
        "    print(\"Розв'язок:\", solution)\n",
        "else:\n",
        "    print(\"Не вдалося знайти розв'язок.\")\n"
      ]
    }
  ]
}